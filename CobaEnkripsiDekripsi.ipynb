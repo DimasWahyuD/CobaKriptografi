{
  "nbformat": 4,
  "nbformat_minor": 0,
  "metadata": {
    "colab": {
      "name": "CobaEnkripsiDekripsi.ipynb",
      "provenance": [],
      "collapsed_sections": []
    },
    "kernelspec": {
      "name": "python3",
      "display_name": "Python 3"
    },
    "language_info": {
      "name": "python"
    }
  },
  "cells": [
    {
      "cell_type": "code",
      "metadata": {
        "colab": {
          "base_uri": "https://localhost:8080/"
        },
        "id": "_fU0Btx6TTlp",
        "outputId": "3e491352-67ae-4170-afa5-faf44d6caac5"
      },
      "source": [
        "import string\n",
        "\n",
        "def caesar_encrypt(data,key):\n",
        "    res = \"\"\n",
        "    for x in range(len(data)):\n",
        "        if data[x].isupper():\n",
        "            pos = string.ascii_uppercase.index(data[x]) + key\n",
        "            pos = pos % 26\n",
        "            res += string.ascii_uppercase[pos]\n",
        "        elif data[x].islower():\n",
        "            pos = string.ascii_lowercase.index(data[x]) + key\n",
        "            pos = pos % 26\n",
        "            res += string.ascii_lowercase[pos]\n",
        "        else:\n",
        "            res += data[x]\n",
        "    return res\n",
        "\n",
        "def caesar_decrypt(data,key):\n",
        "    res = \"\"\n",
        "    for x in range(len(data)):\n",
        "        if data[x].isupper():\n",
        "            pos = string.ascii_uppercase.index(data[x]) - key\n",
        "            pos = pos % 26\n",
        "            res += string.ascii_uppercase[pos]\n",
        "        elif data[x].islower():\n",
        "            pos = string.ascii_lowercase.index(data[x]) - key\n",
        "            pos = pos % 26\n",
        "            res += string.ascii_lowercase[pos]\n",
        "        else:\n",
        "            res += data[x]\n",
        "    return res\n",
        "\n",
        "def main():\n",
        "    enc = caesar_encrypt(\"DIMAS WAHYU DAMARJATI\",19)\n",
        "    print(enc)\n",
        "    dec = caesar_decrypt(enc,19)\n",
        "    print(dec)\n",
        "\n",
        "if __name__ == \"__main__\":\n",
        "    main()"
      ],
      "execution_count": 3,
      "outputs": [
        {
          "output_type": "stream",
          "text": [
            "WBFTL PTARN WTFTKCTMB\n",
            "DIMAS WAHYU DAMARJATI\n"
          ],
          "name": "stdout"
        }
      ]
    },
    {
      "cell_type": "code",
      "metadata": {
        "id": "lzG-PjZUTdd7"
      },
      "source": [
        ""
      ],
      "execution_count": null,
      "outputs": []
    }
  ]
}